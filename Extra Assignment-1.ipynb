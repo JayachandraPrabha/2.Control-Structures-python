{
 "cells": [
  {
   "cell_type": "code",
   "execution_count": 1,
   "id": "c52b12ba",
   "metadata": {},
   "outputs": [
    {
     "name": "stdout",
     "output_type": "stream",
     "text": [
      "HOPE AI\n"
     ]
    }
   ],
   "source": [
    "print(\"HOPE AI\")"
   ]
  },
  {
   "cell_type": "code",
   "execution_count": 3,
   "id": "acd74310",
   "metadata": {},
   "outputs": [
    {
     "name": "stdout",
     "output_type": "stream",
     "text": [
      "Enter your institute name? :HOPE AI\n"
     ]
    }
   ],
   "source": [
    "name=input(\"Enter your institute name? :\")"
   ]
  },
  {
   "cell_type": "code",
   "execution_count": 4,
   "id": "ca0e0d95",
   "metadata": {},
   "outputs": [
    {
     "name": "stdout",
     "output_type": "stream",
     "text": [
      "Enter your name:Raj\n",
      "Enter your age:15\n",
      "Enter your school name:Guru school\n",
      "Enter your degree:B.E CSE\n"
     ]
    }
   ],
   "source": [
    "yourName = input(\"Enter your name:\")\n",
    "yourAge = input(\"Enter your age:\")\n",
    "yourSchool = input(\"Enter your school name:\")\n",
    "yourDegree = input(\"Enter your degree:\")"
   ]
  },
  {
   "cell_type": "code",
   "execution_count": 9,
   "id": "44a0ae2b",
   "metadata": {},
   "outputs": [
    {
     "name": "stdout",
     "output_type": "stream",
     "text": [
      "a= 43\n",
      "b= 34\n",
      "add = 77\n"
     ]
    }
   ],
   "source": [
    "a=43\n",
    "print(\"a=\",a)\n",
    "b=34\n",
    "print(\"b=\",b)\n",
    "add=a+b\n",
    "print(\"add =\",a+b)"
   ]
  },
  {
   "cell_type": "code",
   "execution_count": 10,
   "id": "17e2330d",
   "metadata": {},
   "outputs": [
    {
     "name": "stdout",
     "output_type": "stream",
     "text": [
      "a= 43\n",
      "b= 34\n",
      "Sub = 9\n"
     ]
    }
   ],
   "source": [
    "a=43\n",
    "print(\"a=\",a)\n",
    "b=34\n",
    "print(\"b=\",b)\n",
    "sub=a+b\n",
    "print(\"Sub =\",a-b)"
   ]
  },
  {
   "cell_type": "code",
   "execution_count": 11,
   "id": "e3f1df3a",
   "metadata": {},
   "outputs": [
    {
     "name": "stdout",
     "output_type": "stream",
     "text": [
      "a= 63\n",
      "b= 97\n",
      "Mul = 6111\n"
     ]
    }
   ],
   "source": [
    "a=63\n",
    "print(\"a=\",a)\n",
    "b=97\n",
    "print(\"b=\",b)\n",
    "mul=a+b\n",
    "print(\"Mul =\",a*b)"
   ]
  },
  {
   "cell_type": "code",
   "execution_count": 12,
   "id": "c7281cd3",
   "metadata": {},
   "outputs": [
    {
     "name": "stdout",
     "output_type": "stream",
     "text": [
      "a= 76\n",
      "b= 31\n",
      "Float Div = 2.4516129032258065\n"
     ]
    }
   ],
   "source": [
    "a=76\n",
    "print(\"a=\",a)\n",
    "b=31\n",
    "print(\"b=\",b)\n",
    "floatDiv=a/b\n",
    "print(\"Float Div =\",a/b)"
   ]
  },
  {
   "cell_type": "code",
   "execution_count": 13,
   "id": "67b6e80b",
   "metadata": {},
   "outputs": [
    {
     "name": "stdout",
     "output_type": "stream",
     "text": [
      "a= 76\n",
      "b= 31\n",
      "Floor Div = 2\n"
     ]
    }
   ],
   "source": [
    "a=76\n",
    "print(\"a=\",a)\n",
    "b=31\n",
    "print(\"b=\",b)\n",
    "floorDiv=a/b\n",
    "print(\"Floor Div =\",a//b)"
   ]
  },
  {
   "cell_type": "code",
   "execution_count": 14,
   "id": "b388f353",
   "metadata": {},
   "outputs": [
    {
     "name": "stdout",
     "output_type": "stream",
     "text": [
      "a= 76\n",
      "b= 31\n",
      "Modulo = 14\n"
     ]
    }
   ],
   "source": [
    "a=76\n",
    "print(\"a=\",a)\n",
    "b=31\n",
    "print(\"b=\",b)\n",
    "modulo=a%b\n",
    "print(\"Modulo =\",a%b)"
   ]
  },
  {
   "cell_type": "code",
   "execution_count": 17,
   "id": "38884f12",
   "metadata": {},
   "outputs": [
    {
     "name": "stdout",
     "output_type": "stream",
     "text": [
      "a= 4\n",
      "b= 4\n",
      "Power = 256\n"
     ]
    }
   ],
   "source": [
    "a=4\n",
    "print(\"a=\",a)\n",
    "b=4\n",
    "print(\"b=\",b)\n",
    "power=a**b\n",
    "print(\"Power =\",a**b)"
   ]
  },
  {
   "cell_type": "code",
   "execution_count": null,
   "id": "e2dc9b29",
   "metadata": {},
   "outputs": [],
   "source": []
  }
 ],
 "metadata": {
  "kernelspec": {
   "display_name": "Python 3 (ipykernel)",
   "language": "python",
   "name": "python3"
  },
  "language_info": {
   "codemirror_mode": {
    "name": "ipython",
    "version": 3
   },
   "file_extension": ".py",
   "mimetype": "text/x-python",
   "name": "python",
   "nbconvert_exporter": "python",
   "pygments_lexer": "ipython3",
   "version": "3.10.9"
  }
 },
 "nbformat": 4,
 "nbformat_minor": 5
}
